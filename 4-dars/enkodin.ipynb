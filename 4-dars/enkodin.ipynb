{
 "cells": [
  {
   "cell_type": "code",
   "execution_count": 27,
   "id": "29b94ad5",
   "metadata": {},
   "outputs": [],
   "source": [
    "import pandas as pd"
   ]
  },
  {
   "cell_type": "code",
   "execution_count": 54,
   "id": "561fcd4d",
   "metadata": {},
   "outputs": [],
   "source": [
    "df=pd.read_csv('ai_assistant_usage_student_life.csv')"
   ]
  },
  {
   "cell_type": "code",
   "execution_count": 3,
   "id": "709aeacf",
   "metadata": {},
   "outputs": [
    {
     "name": "stdout",
     "output_type": "stream",
     "text": [
      "<class 'pandas.core.frame.DataFrame'>\n",
      "RangeIndex: 9982 entries, 0 to 9981\n",
      "Data columns (total 11 columns):\n",
      " #   Column              Non-Null Count  Dtype  \n",
      "---  ------              --------------  -----  \n",
      " 0   SessionID           9981 non-null   object \n",
      " 1   StudentLevel        9981 non-null   object \n",
      " 2   Discipline          9976 non-null   object \n",
      " 3   SessionDate         9979 non-null   object \n",
      " 4   SessionLengthMin    9977 non-null   object \n",
      " 5   TotalPrompts        9974 non-null   object \n",
      " 6   TaskType            9974 non-null   object \n",
      " 7   AI_AssistanceLevel  9974 non-null   object \n",
      " 8   FinalOutcome        9974 non-null   object \n",
      " 9   UsedAgain           9973 non-null   object \n",
      " 10  SatisfactionRating  9971 non-null   float64\n",
      "dtypes: float64(1), object(10)\n",
      "memory usage: 858.0+ KB\n"
     ]
    }
   ],
   "source": [
    "df.info()"
   ]
  },
  {
   "cell_type": "markdown",
   "id": "ab2cc9cb",
   "metadata": {},
   "source": [
    " ONE-HOT "
   ]
  },
  {
   "cell_type": "code",
   "execution_count": 26,
   "id": "48e6df7b",
   "metadata": {},
   "outputs": [
    {
     "name": "stdout",
     "output_type": "stream",
     "text": [
      "<class 'pandas.core.frame.DataFrame'>\n",
      "RangeIndex: 9982 entries, 0 to 9981\n",
      "Columns: 9982 entries, StudentLevel to ustun_SESSION10000\n",
      "dtypes: int64(9982)\n",
      "memory usage: 760.2 MB\n"
     ]
    }
   ],
   "source": [
    "df.info()"
   ]
  },
  {
   "cell_type": "code",
   "execution_count": 4,
   "id": "43355815",
   "metadata": {},
   "outputs": [
    {
     "data": {
      "text/plain": [
       "9981"
      ]
     },
     "execution_count": 4,
     "metadata": {},
     "output_type": "execute_result"
    }
   ],
   "source": [
    "df['SessionID'].nunique()"
   ]
  },
  {
   "cell_type": "code",
   "execution_count": 11,
   "id": "e47e6d7c",
   "metadata": {},
   "outputs": [],
   "source": [
    "#yangi ustunlar yaratish\n",
    "duummies=pd.get_dummies(df['SessionID'],prefix='ustun',dtype=int)"
   ]
  },
  {
   "cell_type": "code",
   "execution_count": 10,
   "id": "b9b51696",
   "metadata": {},
   "outputs": [
    {
     "data": {
      "text/html": [
       "<div>\n",
       "<style scoped>\n",
       "    .dataframe tbody tr th:only-of-type {\n",
       "        vertical-align: middle;\n",
       "    }\n",
       "\n",
       "    .dataframe tbody tr th {\n",
       "        vertical-align: top;\n",
       "    }\n",
       "\n",
       "    .dataframe thead th {\n",
       "        text-align: right;\n",
       "    }\n",
       "</style>\n",
       "<table border=\"1\" class=\"dataframe\">\n",
       "  <thead>\n",
       "    <tr style=\"text-align: right;\">\n",
       "      <th></th>\n",
       "      <th>ustun_SESSIDrafted</th>\n",
       "      <th>ustun_SESSION00001</th>\n",
       "      <th>ustun_SESSION00002</th>\n",
       "      <th>ustun_SESSION00003</th>\n",
       "      <th>ustun_SESSION00004</th>\n",
       "      <th>ustun_SESSION00005</th>\n",
       "      <th>ustun_SESSION00006</th>\n",
       "      <th>ustun_SESSION00007</th>\n",
       "      <th>ustun_SESSION00013</th>\n",
       "      <th>ustun_SESSION00014</th>\n",
       "      <th>...</th>\n",
       "      <th>ustun_SESSION09991</th>\n",
       "      <th>ustun_SESSION09992</th>\n",
       "      <th>ustun_SESSION09993</th>\n",
       "      <th>ustun_SESSION09994</th>\n",
       "      <th>ustun_SESSION09995</th>\n",
       "      <th>ustun_SESSION09996</th>\n",
       "      <th>ustun_SESSION09997</th>\n",
       "      <th>ustun_SESSION09998</th>\n",
       "      <th>ustun_SESSION09999</th>\n",
       "      <th>ustun_SESSION10000</th>\n",
       "    </tr>\n",
       "  </thead>\n",
       "  <tbody>\n",
       "    <tr>\n",
       "      <th>0</th>\n",
       "      <td>0</td>\n",
       "      <td>1</td>\n",
       "      <td>0</td>\n",
       "      <td>0</td>\n",
       "      <td>0</td>\n",
       "      <td>0</td>\n",
       "      <td>0</td>\n",
       "      <td>0</td>\n",
       "      <td>0</td>\n",
       "      <td>0</td>\n",
       "      <td>...</td>\n",
       "      <td>0</td>\n",
       "      <td>0</td>\n",
       "      <td>0</td>\n",
       "      <td>0</td>\n",
       "      <td>0</td>\n",
       "      <td>0</td>\n",
       "      <td>0</td>\n",
       "      <td>0</td>\n",
       "      <td>0</td>\n",
       "      <td>0</td>\n",
       "    </tr>\n",
       "    <tr>\n",
       "      <th>1</th>\n",
       "      <td>0</td>\n",
       "      <td>0</td>\n",
       "      <td>1</td>\n",
       "      <td>0</td>\n",
       "      <td>0</td>\n",
       "      <td>0</td>\n",
       "      <td>0</td>\n",
       "      <td>0</td>\n",
       "      <td>0</td>\n",
       "      <td>0</td>\n",
       "      <td>...</td>\n",
       "      <td>0</td>\n",
       "      <td>0</td>\n",
       "      <td>0</td>\n",
       "      <td>0</td>\n",
       "      <td>0</td>\n",
       "      <td>0</td>\n",
       "      <td>0</td>\n",
       "      <td>0</td>\n",
       "      <td>0</td>\n",
       "      <td>0</td>\n",
       "    </tr>\n",
       "    <tr>\n",
       "      <th>2</th>\n",
       "      <td>0</td>\n",
       "      <td>0</td>\n",
       "      <td>0</td>\n",
       "      <td>1</td>\n",
       "      <td>0</td>\n",
       "      <td>0</td>\n",
       "      <td>0</td>\n",
       "      <td>0</td>\n",
       "      <td>0</td>\n",
       "      <td>0</td>\n",
       "      <td>...</td>\n",
       "      <td>0</td>\n",
       "      <td>0</td>\n",
       "      <td>0</td>\n",
       "      <td>0</td>\n",
       "      <td>0</td>\n",
       "      <td>0</td>\n",
       "      <td>0</td>\n",
       "      <td>0</td>\n",
       "      <td>0</td>\n",
       "      <td>0</td>\n",
       "    </tr>\n",
       "    <tr>\n",
       "      <th>3</th>\n",
       "      <td>0</td>\n",
       "      <td>0</td>\n",
       "      <td>0</td>\n",
       "      <td>0</td>\n",
       "      <td>1</td>\n",
       "      <td>0</td>\n",
       "      <td>0</td>\n",
       "      <td>0</td>\n",
       "      <td>0</td>\n",
       "      <td>0</td>\n",
       "      <td>...</td>\n",
       "      <td>0</td>\n",
       "      <td>0</td>\n",
       "      <td>0</td>\n",
       "      <td>0</td>\n",
       "      <td>0</td>\n",
       "      <td>0</td>\n",
       "      <td>0</td>\n",
       "      <td>0</td>\n",
       "      <td>0</td>\n",
       "      <td>0</td>\n",
       "    </tr>\n",
       "    <tr>\n",
       "      <th>4</th>\n",
       "      <td>0</td>\n",
       "      <td>0</td>\n",
       "      <td>0</td>\n",
       "      <td>0</td>\n",
       "      <td>0</td>\n",
       "      <td>1</td>\n",
       "      <td>0</td>\n",
       "      <td>0</td>\n",
       "      <td>0</td>\n",
       "      <td>0</td>\n",
       "      <td>...</td>\n",
       "      <td>0</td>\n",
       "      <td>0</td>\n",
       "      <td>0</td>\n",
       "      <td>0</td>\n",
       "      <td>0</td>\n",
       "      <td>0</td>\n",
       "      <td>0</td>\n",
       "      <td>0</td>\n",
       "      <td>0</td>\n",
       "      <td>0</td>\n",
       "    </tr>\n",
       "    <tr>\n",
       "      <th>...</th>\n",
       "      <td>...</td>\n",
       "      <td>...</td>\n",
       "      <td>...</td>\n",
       "      <td>...</td>\n",
       "      <td>...</td>\n",
       "      <td>...</td>\n",
       "      <td>...</td>\n",
       "      <td>...</td>\n",
       "      <td>...</td>\n",
       "      <td>...</td>\n",
       "      <td>...</td>\n",
       "      <td>...</td>\n",
       "      <td>...</td>\n",
       "      <td>...</td>\n",
       "      <td>...</td>\n",
       "      <td>...</td>\n",
       "      <td>...</td>\n",
       "      <td>...</td>\n",
       "      <td>...</td>\n",
       "      <td>...</td>\n",
       "      <td>...</td>\n",
       "    </tr>\n",
       "    <tr>\n",
       "      <th>9977</th>\n",
       "      <td>0</td>\n",
       "      <td>0</td>\n",
       "      <td>0</td>\n",
       "      <td>0</td>\n",
       "      <td>0</td>\n",
       "      <td>0</td>\n",
       "      <td>0</td>\n",
       "      <td>0</td>\n",
       "      <td>0</td>\n",
       "      <td>0</td>\n",
       "      <td>...</td>\n",
       "      <td>0</td>\n",
       "      <td>0</td>\n",
       "      <td>0</td>\n",
       "      <td>0</td>\n",
       "      <td>0</td>\n",
       "      <td>1</td>\n",
       "      <td>0</td>\n",
       "      <td>0</td>\n",
       "      <td>0</td>\n",
       "      <td>0</td>\n",
       "    </tr>\n",
       "    <tr>\n",
       "      <th>9978</th>\n",
       "      <td>0</td>\n",
       "      <td>0</td>\n",
       "      <td>0</td>\n",
       "      <td>0</td>\n",
       "      <td>0</td>\n",
       "      <td>0</td>\n",
       "      <td>0</td>\n",
       "      <td>0</td>\n",
       "      <td>0</td>\n",
       "      <td>0</td>\n",
       "      <td>...</td>\n",
       "      <td>0</td>\n",
       "      <td>0</td>\n",
       "      <td>0</td>\n",
       "      <td>0</td>\n",
       "      <td>0</td>\n",
       "      <td>0</td>\n",
       "      <td>1</td>\n",
       "      <td>0</td>\n",
       "      <td>0</td>\n",
       "      <td>0</td>\n",
       "    </tr>\n",
       "    <tr>\n",
       "      <th>9979</th>\n",
       "      <td>0</td>\n",
       "      <td>0</td>\n",
       "      <td>0</td>\n",
       "      <td>0</td>\n",
       "      <td>0</td>\n",
       "      <td>0</td>\n",
       "      <td>0</td>\n",
       "      <td>0</td>\n",
       "      <td>0</td>\n",
       "      <td>0</td>\n",
       "      <td>...</td>\n",
       "      <td>0</td>\n",
       "      <td>0</td>\n",
       "      <td>0</td>\n",
       "      <td>0</td>\n",
       "      <td>0</td>\n",
       "      <td>0</td>\n",
       "      <td>0</td>\n",
       "      <td>1</td>\n",
       "      <td>0</td>\n",
       "      <td>0</td>\n",
       "    </tr>\n",
       "    <tr>\n",
       "      <th>9980</th>\n",
       "      <td>0</td>\n",
       "      <td>0</td>\n",
       "      <td>0</td>\n",
       "      <td>0</td>\n",
       "      <td>0</td>\n",
       "      <td>0</td>\n",
       "      <td>0</td>\n",
       "      <td>0</td>\n",
       "      <td>0</td>\n",
       "      <td>0</td>\n",
       "      <td>...</td>\n",
       "      <td>0</td>\n",
       "      <td>0</td>\n",
       "      <td>0</td>\n",
       "      <td>0</td>\n",
       "      <td>0</td>\n",
       "      <td>0</td>\n",
       "      <td>0</td>\n",
       "      <td>0</td>\n",
       "      <td>1</td>\n",
       "      <td>0</td>\n",
       "    </tr>\n",
       "    <tr>\n",
       "      <th>9981</th>\n",
       "      <td>0</td>\n",
       "      <td>0</td>\n",
       "      <td>0</td>\n",
       "      <td>0</td>\n",
       "      <td>0</td>\n",
       "      <td>0</td>\n",
       "      <td>0</td>\n",
       "      <td>0</td>\n",
       "      <td>0</td>\n",
       "      <td>0</td>\n",
       "      <td>...</td>\n",
       "      <td>0</td>\n",
       "      <td>0</td>\n",
       "      <td>0</td>\n",
       "      <td>0</td>\n",
       "      <td>0</td>\n",
       "      <td>0</td>\n",
       "      <td>0</td>\n",
       "      <td>0</td>\n",
       "      <td>0</td>\n",
       "      <td>1</td>\n",
       "    </tr>\n",
       "  </tbody>\n",
       "</table>\n",
       "<p>9982 rows × 9981 columns</p>\n",
       "</div>"
      ],
      "text/plain": [
       "      ustun_SESSIDrafted  ustun_SESSION00001  ustun_SESSION00002  \\\n",
       "0                      0                   1                   0   \n",
       "1                      0                   0                   1   \n",
       "2                      0                   0                   0   \n",
       "3                      0                   0                   0   \n",
       "4                      0                   0                   0   \n",
       "...                  ...                 ...                 ...   \n",
       "9977                   0                   0                   0   \n",
       "9978                   0                   0                   0   \n",
       "9979                   0                   0                   0   \n",
       "9980                   0                   0                   0   \n",
       "9981                   0                   0                   0   \n",
       "\n",
       "      ustun_SESSION00003  ustun_SESSION00004  ustun_SESSION00005  \\\n",
       "0                      0                   0                   0   \n",
       "1                      0                   0                   0   \n",
       "2                      1                   0                   0   \n",
       "3                      0                   1                   0   \n",
       "4                      0                   0                   1   \n",
       "...                  ...                 ...                 ...   \n",
       "9977                   0                   0                   0   \n",
       "9978                   0                   0                   0   \n",
       "9979                   0                   0                   0   \n",
       "9980                   0                   0                   0   \n",
       "9981                   0                   0                   0   \n",
       "\n",
       "      ustun_SESSION00006  ustun_SESSION00007  ustun_SESSION00013  \\\n",
       "0                      0                   0                   0   \n",
       "1                      0                   0                   0   \n",
       "2                      0                   0                   0   \n",
       "3                      0                   0                   0   \n",
       "4                      0                   0                   0   \n",
       "...                  ...                 ...                 ...   \n",
       "9977                   0                   0                   0   \n",
       "9978                   0                   0                   0   \n",
       "9979                   0                   0                   0   \n",
       "9980                   0                   0                   0   \n",
       "9981                   0                   0                   0   \n",
       "\n",
       "      ustun_SESSION00014  ...  ustun_SESSION09991  ustun_SESSION09992  \\\n",
       "0                      0  ...                   0                   0   \n",
       "1                      0  ...                   0                   0   \n",
       "2                      0  ...                   0                   0   \n",
       "3                      0  ...                   0                   0   \n",
       "4                      0  ...                   0                   0   \n",
       "...                  ...  ...                 ...                 ...   \n",
       "9977                   0  ...                   0                   0   \n",
       "9978                   0  ...                   0                   0   \n",
       "9979                   0  ...                   0                   0   \n",
       "9980                   0  ...                   0                   0   \n",
       "9981                   0  ...                   0                   0   \n",
       "\n",
       "      ustun_SESSION09993  ustun_SESSION09994  ustun_SESSION09995  \\\n",
       "0                      0                   0                   0   \n",
       "1                      0                   0                   0   \n",
       "2                      0                   0                   0   \n",
       "3                      0                   0                   0   \n",
       "4                      0                   0                   0   \n",
       "...                  ...                 ...                 ...   \n",
       "9977                   0                   0                   0   \n",
       "9978                   0                   0                   0   \n",
       "9979                   0                   0                   0   \n",
       "9980                   0                   0                   0   \n",
       "9981                   0                   0                   0   \n",
       "\n",
       "      ustun_SESSION09996  ustun_SESSION09997  ustun_SESSION09998  \\\n",
       "0                      0                   0                   0   \n",
       "1                      0                   0                   0   \n",
       "2                      0                   0                   0   \n",
       "3                      0                   0                   0   \n",
       "4                      0                   0                   0   \n",
       "...                  ...                 ...                 ...   \n",
       "9977                   1                   0                   0   \n",
       "9978                   0                   1                   0   \n",
       "9979                   0                   0                   1   \n",
       "9980                   0                   0                   0   \n",
       "9981                   0                   0                   0   \n",
       "\n",
       "      ustun_SESSION09999  ustun_SESSION10000  \n",
       "0                      0                   0  \n",
       "1                      0                   0  \n",
       "2                      0                   0  \n",
       "3                      0                   0  \n",
       "4                      0                   0  \n",
       "...                  ...                 ...  \n",
       "9977                   0                   0  \n",
       "9978                   0                   0  \n",
       "9979                   0                   0  \n",
       "9980                   1                   0  \n",
       "9981                   0                   1  \n",
       "\n",
       "[9982 rows x 9981 columns]"
      ]
     },
     "execution_count": 10,
     "metadata": {},
     "output_type": "execute_result"
    }
   ],
   "source": [
    "duummies"
   ]
  },
  {
   "cell_type": "code",
   "execution_count": 13,
   "id": "1902fdb7",
   "metadata": {},
   "outputs": [],
   "source": [
    "# yaratilgan ustunlarni dataset bilan birlashtirish kodi\n",
    "df=pd.concat([df,duummies],axis=1)"
   ]
  },
  {
   "cell_type": "code",
   "execution_count": 14,
   "id": "78f41e41",
   "metadata": {},
   "outputs": [
    {
     "name": "stdout",
     "output_type": "stream",
     "text": [
      "<class 'pandas.core.frame.DataFrame'>\n",
      "RangeIndex: 9982 entries, 0 to 9981\n",
      "Columns: 9992 entries, SessionID to ustun_SESSION10000\n",
      "dtypes: float64(1), int64(9981), object(10)\n",
      "memory usage: 761.0+ MB\n"
     ]
    }
   ],
   "source": [
    "df.info()"
   ]
  },
  {
   "cell_type": "code",
   "execution_count": 18,
   "id": "5da49a4f",
   "metadata": {},
   "outputs": [],
   "source": [
    "df.drop('SessionID',axis=1,inplace=True)"
   ]
  },
  {
   "cell_type": "code",
   "execution_count": 19,
   "id": "43bde134",
   "metadata": {},
   "outputs": [
    {
     "name": "stdout",
     "output_type": "stream",
     "text": [
      "<class 'pandas.core.frame.DataFrame'>\n",
      "RangeIndex: 9982 entries, 0 to 9981\n",
      "Columns: 9991 entries, StudentLevel to ustun_SESSION10000\n",
      "dtypes: float64(1), int64(9981), object(9)\n",
      "memory usage: 760.9+ MB\n"
     ]
    }
   ],
   "source": [
    "df.info()"
   ]
  },
  {
   "cell_type": "markdown",
   "id": "4c3c35ba",
   "metadata": {},
   "source": [
    "# LABEL ENCODING"
   ]
  },
  {
   "cell_type": "code",
   "execution_count": 20,
   "id": "25619df1",
   "metadata": {},
   "outputs": [],
   "source": [
    "from sklearn.preprocessing import LabelEncoder\n",
    "encoder=LabelEncoder()"
   ]
  },
  {
   "cell_type": "code",
   "execution_count": 21,
   "id": "c028fb44",
   "metadata": {},
   "outputs": [],
   "source": [
    "df['StudentLevel']=encoder.fit_transform(df['StudentLevel'])"
   ]
  },
  {
   "cell_type": "code",
   "execution_count": 29,
   "id": "32c1e90a",
   "metadata": {},
   "outputs": [
    {
     "name": "stdout",
     "output_type": "stream",
     "text": [
      "<class 'pandas.core.frame.DataFrame'>\n",
      "RangeIndex: 9982 entries, 0 to 9981\n",
      "Data columns (total 11 columns):\n",
      " #   Column              Non-Null Count  Dtype  \n",
      "---  ------              --------------  -----  \n",
      " 0   SessionID           9981 non-null   object \n",
      " 1   StudentLevel        9981 non-null   object \n",
      " 2   Discipline          9976 non-null   object \n",
      " 3   SessionDate         9979 non-null   object \n",
      " 4   SessionLengthMin    9977 non-null   object \n",
      " 5   TotalPrompts        9974 non-null   object \n",
      " 6   TaskType            9974 non-null   object \n",
      " 7   AI_AssistanceLevel  9974 non-null   object \n",
      " 8   FinalOutcome        9974 non-null   object \n",
      " 9   UsedAgain           9973 non-null   object \n",
      " 10  SatisfactionRating  9971 non-null   float64\n",
      "dtypes: float64(1), object(10)\n",
      "memory usage: 858.0+ KB\n"
     ]
    }
   ],
   "source": [
    "df.info()"
   ]
  },
  {
   "cell_type": "code",
   "execution_count": 34,
   "id": "c378aa6f",
   "metadata": {},
   "outputs": [],
   "source": [
    "df[['SessionID','StudentLevel','Discipline']] = df[['SessionID','StudentLevel','Discipline']].apply(lambda col: col.fillna(col.mode()[0]))"
   ]
  },
  {
   "cell_type": "code",
   "execution_count": 35,
   "id": "91c3d6f6",
   "metadata": {},
   "outputs": [
    {
     "name": "stdout",
     "output_type": "stream",
     "text": [
      "<class 'pandas.core.frame.DataFrame'>\n",
      "RangeIndex: 9982 entries, 0 to 9981\n",
      "Data columns (total 11 columns):\n",
      " #   Column              Non-Null Count  Dtype  \n",
      "---  ------              --------------  -----  \n",
      " 0   SessionID           9982 non-null   object \n",
      " 1   StudentLevel        9982 non-null   object \n",
      " 2   Discipline          9982 non-null   object \n",
      " 3   SessionDate         9979 non-null   object \n",
      " 4   SessionLengthMin    9977 non-null   object \n",
      " 5   TotalPrompts        9974 non-null   object \n",
      " 6   TaskType            9974 non-null   object \n",
      " 7   AI_AssistanceLevel  9974 non-null   object \n",
      " 8   FinalOutcome        9974 non-null   object \n",
      " 9   UsedAgain           9973 non-null   object \n",
      " 10  SatisfactionRating  9971 non-null   float64\n",
      "dtypes: float64(1), object(10)\n",
      "memory usage: 858.0+ KB\n"
     ]
    }
   ],
   "source": [
    "df.info()"
   ]
  },
  {
   "cell_type": "code",
   "execution_count": 36,
   "id": "120d0c6e",
   "metadata": {},
   "outputs": [],
   "source": [
    "dummies=pd.get_dummies(df['SessionID'],prefix='ustun',dtype=int)"
   ]
  },
  {
   "cell_type": "code",
   "execution_count": 37,
   "id": "ca8b6c82",
   "metadata": {},
   "outputs": [],
   "source": [
    "df=pd.concat([df,dummies],axis=1)"
   ]
  },
  {
   "cell_type": "code",
   "execution_count": 38,
   "id": "c55d99bc",
   "metadata": {},
   "outputs": [
    {
     "name": "stdout",
     "output_type": "stream",
     "text": [
      "<class 'pandas.core.frame.DataFrame'>\n",
      "RangeIndex: 9982 entries, 0 to 9981\n",
      "Columns: 9992 entries, SessionID to ustun_SESSION10000\n",
      "dtypes: float64(1), int64(9981), object(10)\n",
      "memory usage: 761.0+ MB\n"
     ]
    }
   ],
   "source": [
    "df.info()"
   ]
  },
  {
   "cell_type": "code",
   "execution_count": 42,
   "id": "48fc3293",
   "metadata": {},
   "outputs": [],
   "source": [
    "from sklearn.preprocessing import LabelEncoder\n",
    "encoder=LabelEncoder()"
   ]
  },
  {
   "cell_type": "code",
   "execution_count": 43,
   "id": "59c317cf",
   "metadata": {},
   "outputs": [],
   "source": [
    "\n",
    "df['StudentLevel']=encoder.fit_transform(df['StudentLevel'])"
   ]
  },
  {
   "cell_type": "code",
   "execution_count": 44,
   "id": "bbc5a990",
   "metadata": {},
   "outputs": [
    {
     "name": "stdout",
     "output_type": "stream",
     "text": [
      "<class 'pandas.core.frame.DataFrame'>\n",
      "RangeIndex: 9982 entries, 0 to 9981\n",
      "Columns: 9992 entries, SessionID to ustun_SESSION10000\n",
      "dtypes: float64(1), int64(9982), object(9)\n",
      "memory usage: 761.0+ MB\n"
     ]
    }
   ],
   "source": [
    "df.info()"
   ]
  },
  {
   "cell_type": "code",
   "execution_count": 45,
   "id": "d9c66f8e",
   "metadata": {},
   "outputs": [
    {
     "data": {
      "text/plain": [
       "SessionID             9981\n",
       "StudentLevel             8\n",
       "Discipline              12\n",
       "SessionDate            372\n",
       "SessionLengthMin      4079\n",
       "                      ... \n",
       "ustun_SESSION09996       2\n",
       "ustun_SESSION09997       2\n",
       "ustun_SESSION09998       2\n",
       "ustun_SESSION09999       2\n",
       "ustun_SESSION10000       2\n",
       "Length: 9992, dtype: int64"
      ]
     },
     "execution_count": 45,
     "metadata": {},
     "output_type": "execute_result"
    }
   ],
   "source": [
    "df.nunique()"
   ]
  },
  {
   "cell_type": "code",
   "execution_count": 49,
   "id": "84ed1676",
   "metadata": {},
   "outputs": [
    {
     "data": {
      "text/plain": [
       "SessionID              1\n",
       "StudentLevel           1\n",
       "Discipline             6\n",
       "SessionDate            3\n",
       "SessionLengthMin       5\n",
       "TotalPrompts           8\n",
       "TaskType               8\n",
       "AI_AssistanceLevel     8\n",
       "FinalOutcome           8\n",
       "UsedAgain              9\n",
       "SatisfactionRating    11\n",
       "dtype: int64"
      ]
     },
     "execution_count": 49,
     "metadata": {},
     "output_type": "execute_result"
    }
   ],
   "source": [
    "df.isnull().sum()"
   ]
  },
  {
   "cell_type": "code",
   "execution_count": 51,
   "id": "a46cf6df",
   "metadata": {},
   "outputs": [
    {
     "name": "stderr",
     "output_type": "stream",
     "text": [
      "C:\\Users\\sayfi\\AppData\\Local\\Temp\\ipykernel_9312\\1836909251.py:4: FutureWarning: A value is trying to be set on a copy of a DataFrame or Series through chained assignment using an inplace method.\n",
      "The behavior will change in pandas 3.0. This inplace method will never work because the intermediate object on which we are setting values always behaves as a copy.\n",
      "\n",
      "For example, when doing 'df[col].method(value, inplace=True)', try using 'df.method({col: value}, inplace=True)' or df[col] = df[col].method(value) instead, to perform the operation inplace on the original object.\n",
      "\n",
      "\n",
      "  df[col].fillna(df[col].mode()[0],inplace=True)\n",
      "C:\\Users\\sayfi\\AppData\\Local\\Temp\\ipykernel_9312\\1836909251.py:6: FutureWarning: A value is trying to be set on a copy of a DataFrame or Series through chained assignment using an inplace method.\n",
      "The behavior will change in pandas 3.0. This inplace method will never work because the intermediate object on which we are setting values always behaves as a copy.\n",
      "\n",
      "For example, when doing 'df[col].method(value, inplace=True)', try using 'df.method({col: value}, inplace=True)' or df[col] = df[col].method(value) instead, to perform the operation inplace on the original object.\n",
      "\n",
      "\n",
      "  df[col].fillna(df[col].mean(),inplace=True)\n"
     ]
    }
   ],
   "source": [
    "for col in df.columns:\n",
    "    if df[col].isnull().any():\n",
    "        if df[col].dtype==object:\n",
    "            df[col].fillna(df[col].mode()[0],inplace=True)\n",
    "        else:\n",
    "            df[col].fillna(df[col].mean(),inplace=True)"
   ]
  },
  {
   "cell_type": "code",
   "execution_count": 56,
   "id": "419faf5a",
   "metadata": {},
   "outputs": [
    {
     "data": {
      "text/plain": [
       "SessionID              1\n",
       "StudentLevel           1\n",
       "Discipline             6\n",
       "SessionDate            3\n",
       "SessionLengthMin       5\n",
       "TotalPrompts           8\n",
       "TaskType               8\n",
       "AI_AssistanceLevel     8\n",
       "FinalOutcome           8\n",
       "UsedAgain              9\n",
       "SatisfactionRating    11\n",
       "dtype: int64"
      ]
     },
     "execution_count": 56,
     "metadata": {},
     "output_type": "execute_result"
    }
   ],
   "source": [
    "df.isnull().sum()"
   ]
  },
  {
   "cell_type": "code",
   "execution_count": 60,
   "id": "432badb2",
   "metadata": {},
   "outputs": [
    {
     "ename": "TypeError",
     "evalue": "Cannot convert ['SESSION00001' 'SESSION00002' 'SESSION00003' ... 'SESSION09998'\n 'SESSION09999' 'SESSION10000'] to numeric",
     "output_type": "error",
     "traceback": [
      "\u001b[31m---------------------------------------------------------------------------\u001b[39m",
      "\u001b[31mTypeError\u001b[39m                                 Traceback (most recent call last)",
      "\u001b[36mCell\u001b[39m\u001b[36m \u001b[39m\u001b[32mIn[60]\u001b[39m\u001b[32m, line 6\u001b[39m\n\u001b[32m      4\u001b[39m     df[col].fillna(df[col].mode()[\u001b[32m0\u001b[39m],inplce=\u001b[38;5;28;01mTrue\u001b[39;00m)\n\u001b[32m      5\u001b[39m \u001b[38;5;28;01melse\u001b[39;00m:\n\u001b[32m----> \u001b[39m\u001b[32m6\u001b[39m     df[col].fillna(\u001b[43mdf\u001b[49m\u001b[43m[\u001b[49m\u001b[43mcol\u001b[49m\u001b[43m]\u001b[49m\u001b[43m.\u001b[49m\u001b[43mmedian\u001b[49m\u001b[43m(\u001b[49m\u001b[43m)\u001b[49m,inplace=\u001b[38;5;28;01mTrue\u001b[39;00m)\n",
      "\u001b[36mFile \u001b[39m\u001b[32m~\\AppData\\Local\\Packages\\PythonSoftwareFoundation.Python.3.11_qbz5n2kfra8p0\\LocalCache\\local-packages\\Python311\\site-packages\\pandas\\core\\series.py:6570\u001b[39m, in \u001b[36mSeries.median\u001b[39m\u001b[34m(self, axis, skipna, numeric_only, **kwargs)\u001b[39m\n\u001b[32m   6562\u001b[39m \u001b[38;5;129m@doc\u001b[39m(make_doc(\u001b[33m\"\u001b[39m\u001b[33mmedian\u001b[39m\u001b[33m\"\u001b[39m, ndim=\u001b[32m1\u001b[39m))\n\u001b[32m   6563\u001b[39m \u001b[38;5;28;01mdef\u001b[39;00m\u001b[38;5;250m \u001b[39m\u001b[34mmedian\u001b[39m(\n\u001b[32m   6564\u001b[39m     \u001b[38;5;28mself\u001b[39m,\n\u001b[32m   (...)\u001b[39m\u001b[32m   6568\u001b[39m     **kwargs,\n\u001b[32m   6569\u001b[39m ):\n\u001b[32m-> \u001b[39m\u001b[32m6570\u001b[39m     \u001b[38;5;28;01mreturn\u001b[39;00m \u001b[43mNDFrame\u001b[49m\u001b[43m.\u001b[49m\u001b[43mmedian\u001b[49m\u001b[43m(\u001b[49m\u001b[38;5;28;43mself\u001b[39;49m\u001b[43m,\u001b[49m\u001b[43m \u001b[49m\u001b[43maxis\u001b[49m\u001b[43m,\u001b[49m\u001b[43m \u001b[49m\u001b[43mskipna\u001b[49m\u001b[43m,\u001b[49m\u001b[43m \u001b[49m\u001b[43mnumeric_only\u001b[49m\u001b[43m,\u001b[49m\u001b[43m \u001b[49m\u001b[43m*\u001b[49m\u001b[43m*\u001b[49m\u001b[43mkwargs\u001b[49m\u001b[43m)\u001b[49m\n",
      "\u001b[36mFile \u001b[39m\u001b[32m~\\AppData\\Local\\Packages\\PythonSoftwareFoundation.Python.3.11_qbz5n2kfra8p0\\LocalCache\\local-packages\\Python311\\site-packages\\pandas\\core\\generic.py:12450\u001b[39m, in \u001b[36mNDFrame.median\u001b[39m\u001b[34m(self, axis, skipna, numeric_only, **kwargs)\u001b[39m\n\u001b[32m  12443\u001b[39m \u001b[38;5;28;01mdef\u001b[39;00m\u001b[38;5;250m \u001b[39m\u001b[34mmedian\u001b[39m(\n\u001b[32m  12444\u001b[39m     \u001b[38;5;28mself\u001b[39m,\n\u001b[32m  12445\u001b[39m     axis: Axis | \u001b[38;5;28;01mNone\u001b[39;00m = \u001b[32m0\u001b[39m,\n\u001b[32m   (...)\u001b[39m\u001b[32m  12448\u001b[39m     **kwargs,\n\u001b[32m  12449\u001b[39m ) -> Series | \u001b[38;5;28mfloat\u001b[39m:\n\u001b[32m> \u001b[39m\u001b[32m12450\u001b[39m     \u001b[38;5;28;01mreturn\u001b[39;00m \u001b[38;5;28;43mself\u001b[39;49m\u001b[43m.\u001b[49m\u001b[43m_stat_function\u001b[49m\u001b[43m(\u001b[49m\n\u001b[32m  12451\u001b[39m \u001b[43m        \u001b[49m\u001b[33;43m\"\u001b[39;49m\u001b[33;43mmedian\u001b[39;49m\u001b[33;43m\"\u001b[39;49m\u001b[43m,\u001b[49m\u001b[43m \u001b[49m\u001b[43mnanops\u001b[49m\u001b[43m.\u001b[49m\u001b[43mnanmedian\u001b[49m\u001b[43m,\u001b[49m\u001b[43m \u001b[49m\u001b[43maxis\u001b[49m\u001b[43m,\u001b[49m\u001b[43m \u001b[49m\u001b[43mskipna\u001b[49m\u001b[43m,\u001b[49m\u001b[43m \u001b[49m\u001b[43mnumeric_only\u001b[49m\u001b[43m,\u001b[49m\u001b[43m \u001b[49m\u001b[43m*\u001b[49m\u001b[43m*\u001b[49m\u001b[43mkwargs\u001b[49m\n\u001b[32m  12452\u001b[39m \u001b[43m    \u001b[49m\u001b[43m)\u001b[49m\n",
      "\u001b[36mFile \u001b[39m\u001b[32m~\\AppData\\Local\\Packages\\PythonSoftwareFoundation.Python.3.11_qbz5n2kfra8p0\\LocalCache\\local-packages\\Python311\\site-packages\\pandas\\core\\generic.py:12396\u001b[39m, in \u001b[36mNDFrame._stat_function\u001b[39m\u001b[34m(self, name, func, axis, skipna, numeric_only, **kwargs)\u001b[39m\n\u001b[32m  12392\u001b[39m nv.validate_func(name, (), kwargs)\n\u001b[32m  12394\u001b[39m validate_bool_kwarg(skipna, \u001b[33m\"\u001b[39m\u001b[33mskipna\u001b[39m\u001b[33m\"\u001b[39m, none_allowed=\u001b[38;5;28;01mFalse\u001b[39;00m)\n\u001b[32m> \u001b[39m\u001b[32m12396\u001b[39m \u001b[38;5;28;01mreturn\u001b[39;00m \u001b[38;5;28;43mself\u001b[39;49m\u001b[43m.\u001b[49m\u001b[43m_reduce\u001b[49m\u001b[43m(\u001b[49m\n\u001b[32m  12397\u001b[39m \u001b[43m    \u001b[49m\u001b[43mfunc\u001b[49m\u001b[43m,\u001b[49m\u001b[43m \u001b[49m\u001b[43mname\u001b[49m\u001b[43m=\u001b[49m\u001b[43mname\u001b[49m\u001b[43m,\u001b[49m\u001b[43m \u001b[49m\u001b[43maxis\u001b[49m\u001b[43m=\u001b[49m\u001b[43maxis\u001b[49m\u001b[43m,\u001b[49m\u001b[43m \u001b[49m\u001b[43mskipna\u001b[49m\u001b[43m=\u001b[49m\u001b[43mskipna\u001b[49m\u001b[43m,\u001b[49m\u001b[43m \u001b[49m\u001b[43mnumeric_only\u001b[49m\u001b[43m=\u001b[49m\u001b[43mnumeric_only\u001b[49m\n\u001b[32m  12398\u001b[39m \u001b[43m\u001b[49m\u001b[43m)\u001b[49m\n",
      "\u001b[36mFile \u001b[39m\u001b[32m~\\AppData\\Local\\Packages\\PythonSoftwareFoundation.Python.3.11_qbz5n2kfra8p0\\LocalCache\\local-packages\\Python311\\site-packages\\pandas\\core\\series.py:6468\u001b[39m, in \u001b[36mSeries._reduce\u001b[39m\u001b[34m(self, op, name, axis, skipna, numeric_only, filter_type, **kwds)\u001b[39m\n\u001b[32m   6463\u001b[39m     \u001b[38;5;66;03m# GH#47500 - change to TypeError to match other methods\u001b[39;00m\n\u001b[32m   6464\u001b[39m     \u001b[38;5;28;01mraise\u001b[39;00m \u001b[38;5;167;01mTypeError\u001b[39;00m(\n\u001b[32m   6465\u001b[39m         \u001b[33mf\u001b[39m\u001b[33m\"\u001b[39m\u001b[33mSeries.\u001b[39m\u001b[38;5;132;01m{\u001b[39;00mname\u001b[38;5;132;01m}\u001b[39;00m\u001b[33m does not allow \u001b[39m\u001b[38;5;132;01m{\u001b[39;00mkwd_name\u001b[38;5;132;01m}\u001b[39;00m\u001b[33m=\u001b[39m\u001b[38;5;132;01m{\u001b[39;00mnumeric_only\u001b[38;5;132;01m}\u001b[39;00m\u001b[33m \u001b[39m\u001b[33m\"\u001b[39m\n\u001b[32m   6466\u001b[39m         \u001b[33m\"\u001b[39m\u001b[33mwith non-numeric dtypes.\u001b[39m\u001b[33m\"\u001b[39m\n\u001b[32m   6467\u001b[39m     )\n\u001b[32m-> \u001b[39m\u001b[32m6468\u001b[39m \u001b[38;5;28;01mreturn\u001b[39;00m \u001b[43mop\u001b[49m\u001b[43m(\u001b[49m\u001b[43mdelegate\u001b[49m\u001b[43m,\u001b[49m\u001b[43m \u001b[49m\u001b[43mskipna\u001b[49m\u001b[43m=\u001b[49m\u001b[43mskipna\u001b[49m\u001b[43m,\u001b[49m\u001b[43m \u001b[49m\u001b[43m*\u001b[49m\u001b[43m*\u001b[49m\u001b[43mkwds\u001b[49m\u001b[43m)\u001b[49m\n",
      "\u001b[36mFile \u001b[39m\u001b[32m~\\AppData\\Local\\Packages\\PythonSoftwareFoundation.Python.3.11_qbz5n2kfra8p0\\LocalCache\\local-packages\\Python311\\site-packages\\pandas\\core\\nanops.py:147\u001b[39m, in \u001b[36mbottleneck_switch.__call__.<locals>.f\u001b[39m\u001b[34m(values, axis, skipna, **kwds)\u001b[39m\n\u001b[32m    145\u001b[39m         result = alt(values, axis=axis, skipna=skipna, **kwds)\n\u001b[32m    146\u001b[39m \u001b[38;5;28;01melse\u001b[39;00m:\n\u001b[32m--> \u001b[39m\u001b[32m147\u001b[39m     result = \u001b[43malt\u001b[49m\u001b[43m(\u001b[49m\u001b[43mvalues\u001b[49m\u001b[43m,\u001b[49m\u001b[43m \u001b[49m\u001b[43maxis\u001b[49m\u001b[43m=\u001b[49m\u001b[43maxis\u001b[49m\u001b[43m,\u001b[49m\u001b[43m \u001b[49m\u001b[43mskipna\u001b[49m\u001b[43m=\u001b[49m\u001b[43mskipna\u001b[49m\u001b[43m,\u001b[49m\u001b[43m \u001b[49m\u001b[43m*\u001b[49m\u001b[43m*\u001b[49m\u001b[43mkwds\u001b[49m\u001b[43m)\u001b[49m\n\u001b[32m    149\u001b[39m \u001b[38;5;28;01mreturn\u001b[39;00m result\n",
      "\u001b[36mFile \u001b[39m\u001b[32m~\\AppData\\Local\\Packages\\PythonSoftwareFoundation.Python.3.11_qbz5n2kfra8p0\\LocalCache\\local-packages\\Python311\\site-packages\\pandas\\core\\nanops.py:787\u001b[39m, in \u001b[36mnanmedian\u001b[39m\u001b[34m(values, axis, skipna, mask)\u001b[39m\n\u001b[32m    785\u001b[39m     inferred = lib.infer_dtype(values)\n\u001b[32m    786\u001b[39m     \u001b[38;5;28;01mif\u001b[39;00m inferred \u001b[38;5;129;01min\u001b[39;00m [\u001b[33m\"\u001b[39m\u001b[33mstring\u001b[39m\u001b[33m\"\u001b[39m, \u001b[33m\"\u001b[39m\u001b[33mmixed\u001b[39m\u001b[33m\"\u001b[39m]:\n\u001b[32m--> \u001b[39m\u001b[32m787\u001b[39m         \u001b[38;5;28;01mraise\u001b[39;00m \u001b[38;5;167;01mTypeError\u001b[39;00m(\u001b[33mf\u001b[39m\u001b[33m\"\u001b[39m\u001b[33mCannot convert \u001b[39m\u001b[38;5;132;01m{\u001b[39;00mvalues\u001b[38;5;132;01m}\u001b[39;00m\u001b[33m to numeric\u001b[39m\u001b[33m\"\u001b[39m)\n\u001b[32m    788\u001b[39m \u001b[38;5;28;01mtry\u001b[39;00m:\n\u001b[32m    789\u001b[39m     values = values.astype(\u001b[33m\"\u001b[39m\u001b[33mf8\u001b[39m\u001b[33m\"\u001b[39m)\n",
      "\u001b[31mTypeError\u001b[39m: Cannot convert ['SESSION00001' 'SESSION00002' 'SESSION00003' ... 'SESSION09998'\n 'SESSION09999' 'SESSION10000'] to numeric"
     ]
    }
   ],
   "source": [
    "for col in df.columns:\n",
    "    if df[col].isnull().any():\n",
    "        if df[col].dtype=='abject':\n",
    "            df[col].fillna(df[col].mode()[0],inplce=True)\n",
    "        else:\n",
    "            df[col].fillna(df[col].median(),inplace=True)\n",
    "\n",
    "    "
   ]
  },
  {
   "cell_type": "code",
   "execution_count": null,
   "id": "4fdd7e6b",
   "metadata": {},
   "outputs": [],
   "source": []
  }
 ],
 "metadata": {
  "kernelspec": {
   "display_name": "Python 3",
   "language": "python",
   "name": "python3"
  },
  "language_info": {
   "codemirror_mode": {
    "name": "ipython",
    "version": 3
   },
   "file_extension": ".py",
   "mimetype": "text/x-python",
   "name": "python",
   "nbconvert_exporter": "python",
   "pygments_lexer": "ipython3",
   "version": "3.11.9"
  }
 },
 "nbformat": 4,
 "nbformat_minor": 5
}
